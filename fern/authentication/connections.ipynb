{
 "cells": [
  {
   "cell_type": "code",
   "execution_count": 22,
   "metadata": {},
   "outputs": [],
   "source": [
    "from composio_openai import App, ComposioToolSet\n",
    "import json\n",
    "\n",
    "toolset = ComposioToolSet()"
   ]
  },
  {
   "cell_type": "code",
   "execution_count": null,
   "metadata": {},
   "outputs": [],
   "source": []
  },
  {
   "cell_type": "code",
   "execution_count": 16,
   "metadata": {},
   "outputs": [
    {
     "name": "stdout",
     "output_type": "stream",
     "text": [
      "connectionStatus='INITIATED' connectedAccountId='c6e89a22-bb77-4cf8-8c06-1b00beb4d60d' redirectUrl='https://backend.composio.dev/s/FHs6XYH6'\n"
     ]
    }
   ],
   "source": [
    "integration = toolset.create_integration(\n",
    "    app=App.GOOGLECALENDAR,\n",
    "    auth_mode=\"OAUTH2\",\n",
    "    use_composio_oauth_app=True,\n",
    ")\n",
    "\n",
    "entity = toolset.get_entity(\"default\")\n",
    "\n",
    "connection_request = entity.initiate_connection(\n",
    "    app_name=App.GOOGLECALENDAR, integration=integration\n",
    ")\n",
    "\n",
    "print(connection_request)"
   ]
  },
  {
   "cell_type": "code",
   "execution_count": 21,
   "metadata": {},
   "outputs": [
    {
     "ename": "TypeError",
     "evalue": "ComposioToolSet.get_action_schemas() got an unexpected keyword argument 'app'",
     "output_type": "error",
     "traceback": [
      "\u001b[31m---------------------------------------------------------------------------\u001b[39m",
      "\u001b[31mTypeError\u001b[39m                                 Traceback (most recent call last)",
      "\u001b[36mCell\u001b[39m\u001b[36m \u001b[39m\u001b[32mIn[21]\u001b[39m\u001b[32m, line 1\u001b[39m\n\u001b[32m----> \u001b[39m\u001b[32m1\u001b[39m \u001b[43mtoolset\u001b[49m\u001b[43m.\u001b[49m\u001b[43mget_action_schemas\u001b[49m\u001b[43m(\u001b[49m\u001b[43mapp\u001b[49m\u001b[43m=\u001b[49m\u001b[43mApp\u001b[49m\u001b[43m.\u001b[49m\u001b[43mGOOGLECALENDAR\u001b[49m\u001b[43m)\u001b[49m\n",
      "\u001b[31mTypeError\u001b[39m: ComposioToolSet.get_action_schemas() got an unexpected keyword argument 'app'"
     ]
    }
   ],
   "source": []
  },
  {
   "cell_type": "code",
   "execution_count": 3,
   "metadata": {},
   "outputs": [],
   "source": [
    "# Get expected params for GitHub\n",
    "github_params = toolset.get_expected_params_for_user(app=App.GITHUB)\n",
    "\n",
    "# Get expected params for Firecrawl\n",
    "firecrawl_params = toolset.get_expected_params_for_user(app=App.FIRECRAWL)\n",
    "\n",
    "# Get expected params for Gmail\n",
    "gmail_params = toolset.get_expected_params_for_user(app=App.GMAIL)\n",
    "\n",
    "# Get expected params for ServiceNow\n",
    "servicenow_params = toolset.get_expected_params_for_user(app=App.SERVICENOW)\n",
    "\n",
    "# Get expected params for Agency Zoom\n",
    "agencyzoom_params = toolset.get_expected_params_for_user(app=App.AGENCYZOOM)\n",
    "# Create connection requests"
   ]
  },
  {
   "cell_type": "markdown",
   "metadata": {},
   "source": [
    "Oauth 2 "
   ]
  },
  {
   "cell_type": "code",
   "execution_count": 4,
   "metadata": {},
   "outputs": [
    {
     "data": {
      "text/plain": [
       "{'integration_id': 'c4eaf2e2-9d39-44d0-be63-f79978511d45',\n",
       " 'auth_scheme': 'OAUTH2',\n",
       " 'expected_params': []}"
      ]
     },
     "execution_count": 4,
     "metadata": {},
     "output_type": "execute_result"
    }
   ],
   "source": [
    "github_params"
   ]
  },
  {
   "cell_type": "code",
   "execution_count": 5,
   "metadata": {},
   "outputs": [
    {
     "name": "stdout",
     "output_type": "stream",
     "text": [
      "\n",
      "=== GitHub Connection Request ===\n",
      "{\n",
      "  \"connectionStatus\": \"INITIATED\",\n",
      "  \"connectedAccountId\": \"ec33a9e2-75e1-4e01-9c7a-60a1481e4d8e\",\n",
      "  \"redirectUrl\": \"https://backend.composio.dev/s/9eNG2Svq\"\n",
      "}\n"
     ]
    }
   ],
   "source": [
    "entity = toolset.get_entity(\"default\")\n",
    "\n",
    "github_connection_request = entity.initiate_connection(\n",
    "    app_name=App.GITHUB,\n",
    "    auth_mode=github_params[\"auth_scheme\"],\n",
    "    auth_config={},\n",
    ")\n",
    "print(\"\\n=== GitHub Connection Request ===\")\n",
    "print(github_connection_request.model_dump_json(indent=2))\n",
    "\n"
   ]
  },
  {
   "cell_type": "markdown",
   "metadata": {},
   "source": [
    "bearer"
   ]
  },
  {
   "cell_type": "code",
   "execution_count": null,
   "metadata": {},
   "outputs": [],
   "source": [
    "entity.initiate_connection(\n",
    "    integration=integration,\n",
    "    app_name=App.GITHUB,\n",
    ")"
   ]
  },
  {
   "cell_type": "code",
   "execution_count": 7,
   "metadata": {},
   "outputs": [
    {
     "data": {
      "text/plain": [
       "[ExpectedFieldInput(name='token', type='string', description='Token for bearer token auth', displayName='Token', is_secret=False, required=True, expected_from_customer=True, default=None, get_current_user_endpoint=None)]"
      ]
     },
     "execution_count": 7,
     "metadata": {},
     "output_type": "execute_result"
    }
   ],
   "source": [
    "gmail_params = toolset.get_expected_params_for_user(app=App.GMAIL)\n",
    "gmail_params[\"expected_params\"]"
   ]
  },
  {
   "cell_type": "code",
   "execution_count": 8,
   "metadata": {},
   "outputs": [
    {
     "name": "stdout",
     "output_type": "stream",
     "text": [
      "[ExpectedFieldInput(name='token', type='string', description='Token for bearer token auth', displayName='Token', is_secret=False, required=True, expected_from_customer=True, default=None, get_current_user_endpoint=None)]\n"
     ]
    }
   ],
   "source": [
    "print(gmail_params[\"expected_params\"])"
   ]
  },
  {
   "cell_type": "code",
   "execution_count": 9,
   "metadata": {},
   "outputs": [
    {
     "name": "stdout",
     "output_type": "stream",
     "text": [
      "\n",
      "=== Gmail Connection Request ===\n",
      "{\n",
      "  \"connectionStatus\": \"ACTIVE\",\n",
      "  \"connectedAccountId\": \"3362dc81-4313-4564-927e-571e4ff51b95\",\n",
      "  \"redirectUrl\": null\n",
      "}\n"
     ]
    }
   ],
   "source": [
    "entity = toolset.get_entity(\"default\")\n",
    "\n",
    "gmail_connection_request = entity.initiate_connection(\n",
    "    app_name=App.GMAIL,\n",
    "    auth_mode=gmail_params[\"auth_scheme\"],\n",
    "    auth_config={\"token\": \"gmail_token\"},\n",
    ")\n",
    "print(\"\\n=== Gmail Connection Request ===\")\n",
    "print(gmail_connection_request.model_dump_json(indent=2))\n"
   ]
  },
  {
   "cell_type": "markdown",
   "metadata": {},
   "source": [
    "api key"
   ]
  },
  {
   "cell_type": "code",
   "execution_count": 10,
   "metadata": {},
   "outputs": [
    {
     "name": "stdout",
     "output_type": "stream",
     "text": [
      "[ExpectedFieldInput(name='api_key', type='string', description='Your notion API key for authentication. Obtain it from your notion settings.', displayName='API Key', is_secret=False, required=True, expected_from_customer=True, default=None, get_current_user_endpoint=None)]\n"
     ]
    }
   ],
   "source": [
    "notion_params = toolset.get_expected_params_for_user(app=App.NOTION, auth_scheme=\"OAUTH2\")\n",
    "notion_params[\"expected_params\"]\n",
    "print(notion_params[\"expected_params\"])"
   ]
  },
  {
   "cell_type": "code",
   "execution_count": 11,
   "metadata": {},
   "outputs": [],
   "source": [
    "entity = toolset.get_entity(\"default\")\n",
    "\n",
    "notion_connection_request = entity.initiate_connection(\n",
    "    app_name=App.NOTION,\n",
    "    auth_mode=notion_params[\"auth_scheme\"],\n",
    "    auth_config={\"token\": \"notion_token\"},\n",
    ")"
   ]
  },
  {
   "cell_type": "code",
   "execution_count": 14,
   "metadata": {},
   "outputs": [
    {
     "name": "stdout",
     "output_type": "stream",
     "text": [
      "\n",
      "=== Notion Connection Request ===\n",
      "{\n",
      "  \"connectionStatus\": \"ACTIVE\",\n",
      "  \"connectedAccountId\": \"da821894-2383-4f75-8590-ebbc242a4129\",\n",
      "  \"redirectUrl\": null\n",
      "}\n"
     ]
    }
   ],
   "source": [
    "print(\"\\n=== Notion Connection Request ===\")\n",
    "print(notion_connection_request.model_dump_json(indent=2))\n"
   ]
  }
 ],
 "metadata": {
  "kernelspec": {
   "display_name": ".venv",
   "language": "python",
   "name": "python3"
  },
  "language_info": {
   "codemirror_mode": {
    "name": "ipython",
    "version": 3
   },
   "file_extension": ".py",
   "mimetype": "text/x-python",
   "name": "python",
   "nbconvert_exporter": "python",
   "pygments_lexer": "ipython3",
   "version": "3.12.8"
  }
 },
 "nbformat": 4,
 "nbformat_minor": 2
}
